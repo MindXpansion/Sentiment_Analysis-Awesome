{
  "nbformat": 4,
  "nbformat_minor": 0,
  "metadata": {
    "colab": {
      "provenance": [],
      "authorship_tag": "ABX9TyPo+TZeFuickax/h7/4LELk",
      "include_colab_link": true
    },
    "kernelspec": {
      "name": "python3",
      "display_name": "Python 3"
    },
    "language_info": {
      "name": "python"
    },
    "widgets": {
      "application/vnd.jupyter.widget-state+json": {
        "a5cca807d42941b489b47b087cb86b0e": {
          "model_module": "@jupyter-widgets/controls",
          "model_name": "TextareaModel",
          "model_module_version": "1.5.0",
          "state": {
            "_dom_classes": [],
            "_model_module": "@jupyter-widgets/controls",
            "_model_module_version": "1.5.0",
            "_model_name": "TextareaModel",
            "_view_count": null,
            "_view_module": "@jupyter-widgets/controls",
            "_view_module_version": "1.5.0",
            "_view_name": "TextareaView",
            "continuous_update": true,
            "description": "Text:",
            "description_tooltip": null,
            "disabled": false,
            "layout": "IPY_MODEL_b2fb974009ca4e4f846c4cb930d90d8c",
            "placeholder": "Enter text to analyze",
            "rows": null,
            "style": "IPY_MODEL_e2753d53a6fd4fc88a7278d8c2a7686b",
            "value": "President Donald Trump has warned that he may declare a national emergency in Washington due to the Metropolitan Police Department (MPD)’s lack of cooperation with Immigration and Customs Enforcement (ICE). Mayor Muriel Bowser has maintained that immigration enforcement is not the proper role of the MPD, even with federal coordination. Trump is now threatening federal control if ICE cooperation does not resume, citing the potential of rising crime."
          }
        },
        "b2fb974009ca4e4f846c4cb930d90d8c": {
          "model_module": "@jupyter-widgets/base",
          "model_name": "LayoutModel",
          "model_module_version": "1.2.0",
          "state": {
            "_model_module": "@jupyter-widgets/base",
            "_model_module_version": "1.2.0",
            "_model_name": "LayoutModel",
            "_view_count": null,
            "_view_module": "@jupyter-widgets/base",
            "_view_module_version": "1.2.0",
            "_view_name": "LayoutView",
            "align_content": null,
            "align_items": null,
            "align_self": null,
            "border": null,
            "bottom": null,
            "display": null,
            "flex": null,
            "flex_flow": null,
            "grid_area": null,
            "grid_auto_columns": null,
            "grid_auto_flow": null,
            "grid_auto_rows": null,
            "grid_column": null,
            "grid_gap": null,
            "grid_row": null,
            "grid_template_areas": null,
            "grid_template_columns": null,
            "grid_template_rows": null,
            "height": null,
            "justify_content": null,
            "justify_items": null,
            "left": null,
            "margin": null,
            "max_height": null,
            "max_width": null,
            "min_height": null,
            "min_width": null,
            "object_fit": null,
            "object_position": null,
            "order": null,
            "overflow": null,
            "overflow_x": null,
            "overflow_y": null,
            "padding": null,
            "right": null,
            "top": null,
            "visibility": null,
            "width": "500px"
          }
        },
        "e2753d53a6fd4fc88a7278d8c2a7686b": {
          "model_module": "@jupyter-widgets/controls",
          "model_name": "DescriptionStyleModel",
          "model_module_version": "1.5.0",
          "state": {
            "_model_module": "@jupyter-widgets/controls",
            "_model_module_version": "1.5.0",
            "_model_name": "DescriptionStyleModel",
            "_view_count": null,
            "_view_module": "@jupyter-widgets/base",
            "_view_module_version": "1.2.0",
            "_view_name": "StyleView",
            "description_width": ""
          }
        },
        "0b30c621416d4097a95610ea0276fc21": {
          "model_module": "@jupyter-widgets/controls",
          "model_name": "ButtonModel",
          "model_module_version": "1.5.0",
          "state": {
            "_dom_classes": [],
            "_model_module": "@jupyter-widgets/controls",
            "_model_module_version": "1.5.0",
            "_model_name": "ButtonModel",
            "_view_count": null,
            "_view_module": "@jupyter-widgets/controls",
            "_view_module_version": "1.5.0",
            "_view_name": "ButtonView",
            "button_style": "",
            "description": "Analyze Sentiment",
            "disabled": false,
            "icon": "",
            "layout": "IPY_MODEL_1196fd109fd7431eb15fc0efadbe6cec",
            "style": "IPY_MODEL_ef388a0dcf754c799f96c76262b9b44f",
            "tooltip": ""
          }
        },
        "1196fd109fd7431eb15fc0efadbe6cec": {
          "model_module": "@jupyter-widgets/base",
          "model_name": "LayoutModel",
          "model_module_version": "1.2.0",
          "state": {
            "_model_module": "@jupyter-widgets/base",
            "_model_module_version": "1.2.0",
            "_model_name": "LayoutModel",
            "_view_count": null,
            "_view_module": "@jupyter-widgets/base",
            "_view_module_version": "1.2.0",
            "_view_name": "LayoutView",
            "align_content": null,
            "align_items": null,
            "align_self": null,
            "border": null,
            "bottom": null,
            "display": null,
            "flex": null,
            "flex_flow": null,
            "grid_area": null,
            "grid_auto_columns": null,
            "grid_auto_flow": null,
            "grid_auto_rows": null,
            "grid_column": null,
            "grid_gap": null,
            "grid_row": null,
            "grid_template_areas": null,
            "grid_template_columns": null,
            "grid_template_rows": null,
            "height": null,
            "justify_content": null,
            "justify_items": null,
            "left": null,
            "margin": null,
            "max_height": null,
            "max_width": null,
            "min_height": null,
            "min_width": null,
            "object_fit": null,
            "object_position": null,
            "order": null,
            "overflow": null,
            "overflow_x": null,
            "overflow_y": null,
            "padding": null,
            "right": null,
            "top": null,
            "visibility": null,
            "width": null
          }
        },
        "ef388a0dcf754c799f96c76262b9b44f": {
          "model_module": "@jupyter-widgets/controls",
          "model_name": "ButtonStyleModel",
          "model_module_version": "1.5.0",
          "state": {
            "_model_module": "@jupyter-widgets/controls",
            "_model_module_version": "1.5.0",
            "_model_name": "ButtonStyleModel",
            "_view_count": null,
            "_view_module": "@jupyter-widgets/base",
            "_view_module_version": "1.2.0",
            "_view_name": "StyleView",
            "button_color": null,
            "font_weight": ""
          }
        },
        "2b5f3e226dc54478917a3d824663de3e": {
          "model_module": "@jupyter-widgets/output",
          "model_name": "OutputModel",
          "model_module_version": "1.0.0",
          "state": {
            "_dom_classes": [],
            "_model_module": "@jupyter-widgets/output",
            "_model_module_version": "1.0.0",
            "_model_name": "OutputModel",
            "_view_count": null,
            "_view_module": "@jupyter-widgets/output",
            "_view_module_version": "1.0.0",
            "_view_name": "OutputView",
            "layout": "IPY_MODEL_3c85c21d233a4204863cf5d6ad9af3f9",
            "msg_id": "",
            "outputs": [
              {
                "output_type": "stream",
                "name": "stdout",
                "text": [
                  "Sentiment: negative\n",
                  "Confidence: 0.8\n"
                ]
              }
            ]
          }
        },
        "3c85c21d233a4204863cf5d6ad9af3f9": {
          "model_module": "@jupyter-widgets/base",
          "model_name": "LayoutModel",
          "model_module_version": "1.2.0",
          "state": {
            "_model_module": "@jupyter-widgets/base",
            "_model_module_version": "1.2.0",
            "_model_name": "LayoutModel",
            "_view_count": null,
            "_view_module": "@jupyter-widgets/base",
            "_view_module_version": "1.2.0",
            "_view_name": "LayoutView",
            "align_content": null,
            "align_items": null,
            "align_self": null,
            "border": null,
            "bottom": null,
            "display": null,
            "flex": null,
            "flex_flow": null,
            "grid_area": null,
            "grid_auto_columns": null,
            "grid_auto_flow": null,
            "grid_auto_rows": null,
            "grid_column": null,
            "grid_gap": null,
            "grid_row": null,
            "grid_template_areas": null,
            "grid_template_columns": null,
            "grid_template_rows": null,
            "height": null,
            "justify_content": null,
            "justify_items": null,
            "left": null,
            "margin": null,
            "max_height": null,
            "max_width": null,
            "min_height": null,
            "min_width": null,
            "object_fit": null,
            "object_position": null,
            "order": null,
            "overflow": null,
            "overflow_x": null,
            "overflow_y": null,
            "padding": null,
            "right": null,
            "top": null,
            "visibility": null,
            "width": null
          }
        }
      }
    }
  },
  "cells": [
    {
      "cell_type": "markdown",
      "metadata": {
        "id": "view-in-github",
        "colab_type": "text"
      },
      "source": [
        "<a href=\"https://colab.research.google.com/github/MindXpansion/Sentiment_Analysis-Awesome/blob/main/Sentiment_Analysis_Awesome.ipynb\" target=\"_parent\"><img src=\"https://colab.research.google.com/assets/colab-badge.svg\" alt=\"Open In Colab\"/></a>"
      ]
    },
    {
      "cell_type": "code",
      "execution_count": 2,
      "metadata": {
        "colab": {
          "base_uri": "https://localhost:8080/",
          "height": 130,
          "referenced_widgets": [
            "a5cca807d42941b489b47b087cb86b0e",
            "b2fb974009ca4e4f846c4cb930d90d8c",
            "e2753d53a6fd4fc88a7278d8c2a7686b",
            "0b30c621416d4097a95610ea0276fc21",
            "1196fd109fd7431eb15fc0efadbe6cec",
            "ef388a0dcf754c799f96c76262b9b44f",
            "2b5f3e226dc54478917a3d824663de3e",
            "3c85c21d233a4204863cf5d6ad9af3f9"
          ]
        },
        "id": "tQbRB90fnxG8",
        "outputId": "ebb53c1f-e23e-4b2b-c43f-851aa8e011e3"
      },
      "outputs": [
        {
          "output_type": "display_data",
          "data": {
            "text/plain": [
              "Textarea(value='', description='Text:', layout=Layout(width='500px'), placeholder='Enter text to analyze')"
            ],
            "application/vnd.jupyter.widget-view+json": {
              "version_major": 2,
              "version_minor": 0,
              "model_id": "a5cca807d42941b489b47b087cb86b0e"
            }
          },
          "metadata": {}
        },
        {
          "output_type": "display_data",
          "data": {
            "text/plain": [
              "Button(description='Analyze Sentiment', style=ButtonStyle())"
            ],
            "application/vnd.jupyter.widget-view+json": {
              "version_major": 2,
              "version_minor": 0,
              "model_id": "0b30c621416d4097a95610ea0276fc21"
            }
          },
          "metadata": {}
        },
        {
          "output_type": "display_data",
          "data": {
            "text/plain": [
              "Output()"
            ],
            "application/vnd.jupyter.widget-view+json": {
              "version_major": 2,
              "version_minor": 0,
              "model_id": "2b5f3e226dc54478917a3d824663de3e"
            }
          },
          "metadata": {}
        }
      ],
      "source": [
        "import google.generativeai as genai\n",
        "from google.colab import userdata\n",
        "from IPython.display import display\n",
        "import ipywidgets as widgets\n",
        "\n",
        "# Make sure to add your API key to the Colab secrets manager under the name 'GOOGLE_API_KEY'\n",
        "GOOGLE_API_KEY = userdata.get('GOOGLE_API_KEY')\n",
        "genai.configure(api_key=GOOGLE_API_KEY)\n",
        "\n",
        "# Define the sentiment analysis tool configuration\n",
        "sentiment_analysis_tool = {\n",
        "    \"function_declarations\": [\n",
        "        {\n",
        "            \"name\": \"sentiment_analysis\",\n",
        "            \"description\": \"Classifies a short text as positive, negative, or neutral.\",\n",
        "            \"parameters\": {\n",
        "                \"type\": \"object\",\n",
        "                \"properties\": {\n",
        "                    \"text\": {\"type\": \"string\", \"description\": \"The text to analyze\"},\n",
        "                    \"sentiment\": {\"type\": \"string\", \"description\": \"The sentiment of the text (positive, negative, or neutral)\"},\n",
        "                    \"confidence\": {\"type\": \"number\", \"description\": \"The confidence score of the sentiment analysis (0-1)\"}\n",
        "                },\n",
        "                \"required\": [\"text\", \"sentiment\", \"confidence\"]\n",
        "            }\n",
        "        }\n",
        "    ]\n",
        "}\n",
        "\n",
        "# Initialize the Generative Model\n",
        "gemini_model = genai.GenerativeModel(\n",
        "    'gemini-1.5-flash-latest',\n",
        "    tools=[sentiment_analysis_tool]\n",
        ")\n",
        "\n",
        "# Create a text input widget\n",
        "text_input = widgets.Textarea(\n",
        "    value='',\n",
        "    placeholder='Enter text to analyze',\n",
        "    description='Text:',\n",
        "    disabled=False,\n",
        "    layout={'width': '500px'}\n",
        ")\n",
        "\n",
        "# Create an output widget to display results\n",
        "output_widget = widgets.Output()\n",
        "\n",
        "# Function to handle button click\n",
        "def analyze_text(button):\n",
        "    with output_widget:\n",
        "        output_widget.clear_output() # Clear previous output\n",
        "        text_to_analyze = text_input.value\n",
        "        if not text_to_analyze:\n",
        "            print(\"Please enter some text to analyze.\")\n",
        "            return\n",
        "\n",
        "        # Call the API with the sentiment analysis task configuration\n",
        "        response = gemini_model.generate_content(\n",
        "            f\"Use the sentiment_analysis function to analyze the sentiment of the following text: {text_to_analyze}\"\n",
        "        )\n",
        "\n",
        "        # Print the sentiment and confidence from the response\n",
        "        import json\n",
        "        try:\n",
        "            sentiment_result = None\n",
        "            # Iterate through the parts to find the function call\n",
        "            for part in response.candidates[0].content.parts:\n",
        "                if part.function_call:\n",
        "                    tool_call = part.function_call\n",
        "                    sentiment_result = {\n",
        "                        \"sentiment\": tool_call.args.get('sentiment'),\n",
        "                        \"confidence\": tool_call.args.get('confidence')\n",
        "                    }\n",
        "                    break # Stop after finding the first function call\n",
        "\n",
        "            if sentiment_result:\n",
        "                print(f\"Sentiment: {sentiment_result['sentiment']}\")\n",
        "                print(f\"Confidence: {sentiment_result['confidence']}\")\n",
        "            else:\n",
        "                print(\"No sentiment analysis function call found in the response.\")\n",
        "                print(f\"Raw response text: {response.text}\")\n",
        "\n",
        "        except Exception as e:\n",
        "            print(\"Error processing response.\")\n",
        "            print(f\"Raw response text: {response.text}\")\n",
        "            print(f\"Error details: {e}\")\n",
        "\n",
        "# Create a button to trigger analysis\n",
        "analyze_button = widgets.Button(description=\"Analyze Sentiment\")\n",
        "analyze_button.on_click(analyze_text)\n",
        "\n",
        "# Display the widgets\n",
        "display(text_input, analyze_button, output_widget)"
      ]
    }
  ]
}